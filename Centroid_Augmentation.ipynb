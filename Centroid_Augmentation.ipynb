{
 "cells": [
  {
   "cell_type": "code",
   "execution_count": 6,
   "id": "eff2ad98",
   "metadata": {},
   "outputs": [],
   "source": [
    "from matplotlib import pyplot as plt\n",
    "import glob\n",
    "from PIL import Image, ImageFilter\n",
    "import PIL\n",
    "import numpy as np"
   ]
  },
  {
   "cell_type": "code",
   "execution_count": 10,
   "id": "45c5d2c6",
   "metadata": {},
   "outputs": [],
   "source": [
    "root = '.../Centroid_Augmentation'\n",
    "\n",
    "data = glob.glob(f'{root}/train/*.jpg')\n",
    "\n",
    "def horizontal_flip(img, lbl):\n",
    "    return img.transpose(method=Image.FLIP_LEFT_RIGHT), lbl.transpose(method=Image.FLIP_LEFT_RIGHT)\n",
    "\n",
    "def vertical_flip(img, lbl):\n",
    "    return img.transpose(method=Image.FLIP_TOP_BOTTOM), lbl.transpose(method=Image.FLIP_TOP_BOTTOM)\n",
    "\n",
    "def rotate(img, lbl):\n",
    "    return img.rotate(60, PIL.Image.NEAREST, expand = 1), lbl.rotate(60, PIL.Image.NEAREST, expand = 1)\n",
    "\n",
    "for i in range(len(data)):\n",
    "\n",
    "    name = data[i].split('\\\\')[1]\n",
    "\n",
    "    image = Image.open(f'{root}/train/{name}')\n",
    "    label = Image.open(f'{root}/train_labels/{name}___fuse.png')\n",
    "\n",
    "    label_ = label.convert(\"L\")\n",
    "    edge_image = label_.filter(ImageFilter.FIND_EDGES)\n",
    "    row_indexes, col_indexes = np.nonzero(edge_image)\n",
    "\n",
    "    dim = (col_indexes.min(), row_indexes.min(), col_indexes.max(), row_indexes.max())\n",
    "\n",
    "    image_, label_ = image.crop(dim), label_.crop(dim)\n",
    "    hf_img, hf_lbl = horizontal_flip(image_, label_)\n",
    "    vf_img, vf_lbl = vertical_flip(image_, label_)\n",
    "    ri_img, ri_lbl = rotate(image_, label_) \n",
    "    \n",
    "    \n",
    "    image_.save(f'{root}/Pseudo_Images/c_{name}')\n",
    "    label_.save(f'{root}/Pseudo_Labels/c_{name}___fuse.png')\n",
    "    hf_img.save(f'{root}/Pseudo_Images/c_hf_{name}')\n",
    "    hf_lbl.save(f'{root}/Pseudo_Labels/c_hf_{name}___fuse.png')\n",
    "    vf_img.save(f'{root}/Pseudo_Images/c_vf_{name}')\n",
    "    vf_lbl.save(f'{root}/Pseudo_Labels/c_vf_{name}___fuse.png')\n",
    "    ri_img.save(f'{root}/Pseudo_Images/c_r_{name}')\n",
    "    ri_lbl.save(f'{root}/Pseudo_Labels/c_r_{name}___fuse.png')"
   ]
  },
  {
   "cell_type": "code",
   "execution_count": null,
   "id": "45a92a6f",
   "metadata": {},
   "outputs": [],
   "source": []
  }
 ],
 "metadata": {
  "kernelspec": {
   "display_name": "Python 3 (ipykernel)",
   "language": "python",
   "name": "python3"
  },
  "language_info": {
   "codemirror_mode": {
    "name": "ipython",
    "version": 3
   },
   "file_extension": ".py",
   "mimetype": "text/x-python",
   "name": "python",
   "nbconvert_exporter": "python",
   "pygments_lexer": "ipython3",
   "version": "3.9.12"
  }
 },
 "nbformat": 4,
 "nbformat_minor": 5
}
